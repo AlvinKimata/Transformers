{
  "nbformat": 4,
  "nbformat_minor": 0,
  "metadata": {
    "colab": {
      "provenance": [],
      "authorship_tag": "ABX9TyPDV7ckViST6NgFBjS18psq",
      "include_colab_link": true
    },
    "kernelspec": {
      "name": "python3",
      "display_name": "Python 3"
    },
    "language_info": {
      "name": "python"
    },
    "gpuClass": "standard"
  },
  "cells": [
    {
      "cell_type": "markdown",
      "metadata": {
        "id": "view-in-github",
        "colab_type": "text"
      },
      "source": [
        "<a href=\"https://colab.research.google.com/github/AlvinKimata/Transformers/blob/main/Transformers%20for%20NLP/GPT%20from%20scratch/GPT_from_scratch.ipynb\" target=\"_parent\"><img src=\"https://colab.research.google.com/assets/colab-badge.svg\" alt=\"Open In Colab\"/></a>"
      ]
    },
    {
      "cell_type": "markdown",
      "source": [
        "### This notebook demonstrates building and training a `generative pretrained transformer` from scratch in Pytorch. \n",
        "\n",
        "### The link to the tutorial can be found [here.](https://www.youtube.com/watch?v=kCc8FmEb1nY)"
      ],
      "metadata": {
        "id": "mpA9pecFi3TC"
      }
    },
    {
      "cell_type": "code",
      "execution_count": 1,
      "metadata": {
        "colab": {
          "base_uri": "https://localhost:8080/"
        },
        "id": "FdNEeFUVi0dX",
        "outputId": "79d81a06-10c1-46ce-90fc-299bc5e2720f"
      },
      "outputs": [
        {
          "output_type": "stream",
          "name": "stdout",
          "text": [
            "--2023-01-20 07:14:13--  https://raw.githubusercontent.com/karpathy/char-rnn/master/data/tinyshakespeare/input.txt\n",
            "Resolving raw.githubusercontent.com (raw.githubusercontent.com)... 185.199.108.133, 185.199.109.133, 185.199.110.133, ...\n",
            "Connecting to raw.githubusercontent.com (raw.githubusercontent.com)|185.199.108.133|:443... connected.\n",
            "HTTP request sent, awaiting response... 200 OK\n",
            "Length: 1115394 (1.1M) [text/plain]\n",
            "Saving to: ‘input.txt.1’\n",
            "\n",
            "\rinput.txt.1           0%[                    ]       0  --.-KB/s               \rinput.txt.1         100%[===================>]   1.06M  --.-KB/s    in 0.05s   \n",
            "\n",
            "2023-01-20 07:14:13 (20.3 MB/s) - ‘input.txt.1’ saved [1115394/1115394]\n",
            "\n"
          ]
        }
      ],
      "source": [
        "#Download the tiny shakespeare daaset.\n",
        "!wget 'https://raw.githubusercontent.com/karpathy/char-rnn/master/data/tinyshakespeare/input.txt'"
      ]
    },
    {
      "cell_type": "code",
      "source": [
        "#Inspect the dataset.\n",
        "with open('input.txt', 'r', encoding = 'utf-8') as f:\n",
        "  text = f.read()\n",
        "\n",
        "\n",
        "print(f'Length of dataset in characters is: {len(text)}')"
      ],
      "metadata": {
        "colab": {
          "base_uri": "https://localhost:8080/"
        },
        "id": "PC0lpjIMjxDM",
        "outputId": "ef7b153c-9d8b-44d4-866f-199d68d8e75f"
      },
      "execution_count": 2,
      "outputs": [
        {
          "output_type": "stream",
          "name": "stdout",
          "text": [
            "Length of dataset in characters is: 1115394\n"
          ]
        }
      ]
    },
    {
      "cell_type": "code",
      "source": [
        "print(text[:100])"
      ],
      "metadata": {
        "colab": {
          "base_uri": "https://localhost:8080/"
        },
        "id": "8HRnSnBjkDge",
        "outputId": "a3005a20-56d6-487e-b41e-0754f767a8f8"
      },
      "execution_count": 3,
      "outputs": [
        {
          "output_type": "stream",
          "name": "stdout",
          "text": [
            "First Citizen:\n",
            "Before we proceed any further, hear me speak.\n",
            "\n",
            "All:\n",
            "Speak, speak.\n",
            "\n",
            "First Citizen:\n",
            "You\n"
          ]
        }
      ]
    },
    {
      "cell_type": "code",
      "source": [
        "#Get the nuber of unique characters that occur in the text.\n",
        "chars = sorted(list(set(text)))\n",
        "vocab_size = len(chars)\n",
        "print(''.join(chars))\n",
        "\n",
        "print(f'\\n Vocabulary size is: {vocab_size}')"
      ],
      "metadata": {
        "colab": {
          "base_uri": "https://localhost:8080/"
        },
        "id": "DncaNnnpkLJB",
        "outputId": "6dbb4b88-f8ff-49bb-e508-3f95edc63204"
      },
      "execution_count": 4,
      "outputs": [
        {
          "output_type": "stream",
          "name": "stdout",
          "text": [
            "\n",
            " !$&',-.3:;?ABCDEFGHIJKLMNOPQRSTUVWXYZabcdefghijklmnopqrstuvwxyz\n",
            "\n",
            " Vocabulary size is: 65\n"
          ]
        }
      ]
    },
    {
      "cell_type": "markdown",
      "source": [
        "### Encode the text. \n"
      ],
      "metadata": {
        "id": "TiC3pCfHlCq9"
      }
    },
    {
      "cell_type": "code",
      "source": [
        "#Create a mapping from characters sto integers.\n",
        "stoi = {ch: i for i, ch in enumerate(chars)}\n",
        "itos = {i: ch for i, ch in enumerate(chars)}\n",
        "\n",
        "encode = lambda s: [stoi[c] for c in s] #Encode: Take a string and output a list of integers.\n",
        "decode = lambda l: ''.join([itos[i] for i in l]) #Decoder: Take a list of integers and output a string.\n",
        "\n",
        "print(encode('hii there')) # [46, 47, 47, 1, 58, 46, 43, 56, 43]\n",
        "print(decode(encode('hii there'))) # hii there"
      ],
      "metadata": {
        "colab": {
          "base_uri": "https://localhost:8080/"
        },
        "id": "K8Zqm21Gkens",
        "outputId": "aa279a1d-2c64-4936-b90a-15261feae09e"
      },
      "execution_count": 5,
      "outputs": [
        {
          "output_type": "stream",
          "name": "stdout",
          "text": [
            "[46, 47, 47, 1, 58, 46, 43, 56, 43]\n",
            "hii there\n"
          ]
        }
      ]
    },
    {
      "cell_type": "code",
      "source": [
        "#Encode the entire text dataset and store it in a torch.Tensor\n",
        "\n",
        "import torch\n",
        "data = torch.tensor(encode(text), dtype = torch.long)\n",
        "print(data.shape, data.dtype)"
      ],
      "metadata": {
        "colab": {
          "base_uri": "https://localhost:8080/"
        },
        "id": "n7kcA_5Xl5Jm",
        "outputId": "e688a38c-438a-4830-e97f-f784970032f7"
      },
      "execution_count": 6,
      "outputs": [
        {
          "output_type": "stream",
          "name": "stdout",
          "text": [
            "torch.Size([1115394]) torch.int64\n"
          ]
        }
      ]
    },
    {
      "cell_type": "code",
      "source": [
        "print(data[:100])"
      ],
      "metadata": {
        "colab": {
          "base_uri": "https://localhost:8080/"
        },
        "id": "kV6H4qxhm0AG",
        "outputId": "fce95cfc-d46b-421c-ca27-a0904baf51d5"
      },
      "execution_count": 7,
      "outputs": [
        {
          "output_type": "stream",
          "name": "stdout",
          "text": [
            "tensor([18, 47, 56, 57, 58,  1, 15, 47, 58, 47, 64, 43, 52, 10,  0, 14, 43, 44,\n",
            "        53, 56, 43,  1, 61, 43,  1, 54, 56, 53, 41, 43, 43, 42,  1, 39, 52, 63,\n",
            "         1, 44, 59, 56, 58, 46, 43, 56,  6,  1, 46, 43, 39, 56,  1, 51, 43,  1,\n",
            "        57, 54, 43, 39, 49,  8,  0,  0, 13, 50, 50, 10,  0, 31, 54, 43, 39, 49,\n",
            "         6,  1, 57, 54, 43, 39, 49,  8,  0,  0, 18, 47, 56, 57, 58,  1, 15, 47,\n",
            "        58, 47, 64, 43, 52, 10,  0, 37, 53, 59])\n"
          ]
        }
      ]
    },
    {
      "cell_type": "code",
      "source": [
        " #Split the data in train and test splits.\n",
        " n = int(0.9 * len(data))\n",
        " train_data = data[:n]\n",
        " val_data = data[n:]"
      ],
      "metadata": {
        "id": "MNRNmCbwm2-Q"
      },
      "execution_count": 8,
      "outputs": []
    },
    {
      "cell_type": "code",
      "source": [
        "block_size = 8 #context size.\n",
        "\n",
        "x = train_data[:block_size]\n",
        "y = train_data[1: block_size + 1]\n",
        "\n",
        "for t in range(block_size):\n",
        "  context = x[:t + 1]\n",
        "  target = y[t]\n",
        "\n",
        "  print(f'When input is {context} the target: {target}')"
      ],
      "metadata": {
        "colab": {
          "base_uri": "https://localhost:8080/"
        },
        "id": "EXTgM7z4nRn7",
        "outputId": "d26c5dc5-9335-4888-89df-c1391bb8eca9"
      },
      "execution_count": 9,
      "outputs": [
        {
          "output_type": "stream",
          "name": "stdout",
          "text": [
            "When input is tensor([18]) the target: 47\n",
            "When input is tensor([18, 47]) the target: 56\n",
            "When input is tensor([18, 47, 56]) the target: 57\n",
            "When input is tensor([18, 47, 56, 57]) the target: 58\n",
            "When input is tensor([18, 47, 56, 57, 58]) the target: 1\n",
            "When input is tensor([18, 47, 56, 57, 58,  1]) the target: 15\n",
            "When input is tensor([18, 47, 56, 57, 58,  1, 15]) the target: 47\n",
            "When input is tensor([18, 47, 56, 57, 58,  1, 15, 47]) the target: 58\n"
          ]
        }
      ]
    },
    {
      "cell_type": "code",
      "source": [
        "#Batch size.\n",
        "#Set the seed for reproducibility.\n",
        "\n",
        "torch.manual_seed(1337)\n",
        "batch_size = 4\n",
        "\n",
        "def get_batch(split):\n",
        "  #Generate a small batch of data of inputs x and target y.\n",
        "  data = train_data if split == 'train' else val_data\n",
        "  ix = torch.randint(len(data) - block_size, (batch_size,))\n",
        "  x = torch.stack([data[i: i + block_size] for i in ix])\n",
        "  y = torch.stack([data[i+1: i + block_size + 1] for i in ix])\n",
        "  return x, y\n",
        "\n",
        "\n",
        "xb, yb = get_batch('train')\n",
        "print(f'Inputs: \\n {xb.shape}')\n",
        "print(f'Target: \\n {yb.shape}')\n",
        "\n",
        "print('-------------------')\n",
        "\n",
        "for b in range(batch_size):\n",
        "  print('\\n')\n",
        "  \n",
        "  for t in range(batch_size):\n",
        "    context = xb[b, :t + 1]\n",
        "    target = yb[b, t]\n",
        "\n",
        "    print(f'When input is {context.tolist()} the target: {target}')"
      ],
      "metadata": {
        "colab": {
          "base_uri": "https://localhost:8080/"
        },
        "id": "f0sded_BoFqp",
        "outputId": "99087f95-eec1-4ef1-ef94-021e74bc1455"
      },
      "execution_count": 10,
      "outputs": [
        {
          "output_type": "stream",
          "name": "stdout",
          "text": [
            "Inputs: \n",
            " torch.Size([4, 8])\n",
            "Target: \n",
            " torch.Size([4, 8])\n",
            "-------------------\n",
            "\n",
            "\n",
            "When input is [24] the target: 43\n",
            "When input is [24, 43] the target: 58\n",
            "When input is [24, 43, 58] the target: 5\n",
            "When input is [24, 43, 58, 5] the target: 57\n",
            "\n",
            "\n",
            "When input is [44] the target: 53\n",
            "When input is [44, 53] the target: 56\n",
            "When input is [44, 53, 56] the target: 1\n",
            "When input is [44, 53, 56, 1] the target: 58\n",
            "\n",
            "\n",
            "When input is [52] the target: 58\n",
            "When input is [52, 58] the target: 1\n",
            "When input is [52, 58, 1] the target: 58\n",
            "When input is [52, 58, 1, 58] the target: 46\n",
            "\n",
            "\n",
            "When input is [25] the target: 17\n",
            "When input is [25, 17] the target: 27\n",
            "When input is [25, 17, 27] the target: 10\n",
            "When input is [25, 17, 27, 10] the target: 0\n"
          ]
        }
      ]
    },
    {
      "cell_type": "markdown",
      "source": [
        "## Build the model."
      ],
      "metadata": {
        "id": "NV7cI_p3qmQq"
      }
    },
    {
      "cell_type": "code",
      "source": [
        "import torch\n",
        "import torch.nn as nn\n",
        "from torch.nn import functional as F\n",
        "\n",
        "torch.manual_seed(1337)\n",
        "\n",
        "class BigramLanguageModel(nn.Module):\n",
        "  def __init__(self, vocab_size):\n",
        "    super().__init__()\n",
        "\n",
        "    #Each token directly reads off the logits from the next token from a lookup table.\n",
        "    self.token_embedding_table = nn.Embedding(vocab_size, vocab_size)\n",
        "\n",
        "  def forward(self, idx, targets = None):\n",
        "    logits = self.token_embedding_table(idx) #(batch, time, channel)\n",
        "\n",
        "    if targets is None:\n",
        "      loss = None\n",
        "    else:\n",
        "      #Reshape logits.\n",
        "      B, T, C = logits.shape\n",
        "      logits = logits.view(B*T, C)\n",
        "      targets = targets.view(B * T) #Reduce dimension by one.\n",
        "\n",
        "      #Negative log-likelihood loss.\n",
        "      loss = F.cross_entropy(logits, targets) #Measures quality of logits to the target. \n",
        "\n",
        "    return logits, loss\n",
        "\n",
        "  def generate(self, idx, max_new_tokens):\n",
        "    '''Generate function for the model.'''\n",
        "    for _ in range(max_new_tokens):\n",
        "      #Get the predictions.\n",
        "      logits, loss = self(idx)\n",
        "\n",
        "      #Focus only on the last timestep.\n",
        "      logits = logits[:, -1, :]\n",
        "\n",
        "      #Apply a softmax to get the probabilities.\n",
        "      probs = F.softmax(logits, dim = -1)\n",
        "\n",
        "      #Sample from the distribution.\n",
        "      idx_next = torch.multinomial(probs, num_samples = 1)\n",
        "\n",
        "      #Append sampled index to the running sequence.\n",
        "      idx = torch.cat((idx, idx_next), dim = 1)\n",
        "\n",
        "    return idx\n",
        "\n",
        "m = BigramLanguageModel(vocab_size)\n",
        "logits, loss = m(xb, yb)\n",
        "\n",
        "print(logits.shape)\n",
        "print(loss)\n",
        "\n",
        "idx = torch.zeros((1, 1), dtype = torch.long)\n",
        "print(decode(m.generate(idx, max_new_tokens = 100)[0].tolist()))"
      ],
      "metadata": {
        "colab": {
          "base_uri": "https://localhost:8080/"
        },
        "id": "y53RckPQpNBO",
        "outputId": "5d06e741-ca31-49a5-9255-34548dc9d393"
      },
      "execution_count": 11,
      "outputs": [
        {
          "output_type": "stream",
          "name": "stdout",
          "text": [
            "torch.Size([32, 65])\n",
            "tensor(4.8786, grad_fn=<NllLossBackward0>)\n",
            "\n",
            "SKIcLT;AcELMoTbvZv C?nq-QE33:CJqkOKH-q;:la!oiywkHjgChzbQ?u!3bLIgwevmyFJGUGp\n",
            "wnYWmnxKWWev-tDqXErVKLgJ\n"
          ]
        }
      ]
    },
    {
      "cell_type": "code",
      "source": [
        "from tqdm import tqdm"
      ],
      "metadata": {
        "id": "xiACwmMiySMI"
      },
      "execution_count": 12,
      "outputs": []
    },
    {
      "cell_type": "code",
      "source": [
        "#Create an optimizer object.\n",
        "optimizer = torch.optim.AdamW(m.parameters(), lr = 1e-3)\n",
        "\n",
        "\n",
        "#Training loop.\n",
        "for steps in tqdm(range(100_000)):\n",
        "\n",
        "  #Sample a batch of data.\n",
        "  xb, yb = get_batch('train')\n",
        "\n",
        "  #Evaluate the loss.\n",
        "  logits, loss = m(xb, yb)\n",
        "  optimizer.zero_grad(set_to_none = True)\n",
        "  loss.backward()\n",
        "  optimizer.step()\n",
        "\n",
        "print(loss.item())"
      ],
      "metadata": {
        "colab": {
          "base_uri": "https://localhost:8080/"
        },
        "id": "_xdwCxtLr90z",
        "outputId": "7e0ce7eb-e423-49e7-859d-cf2ea05bf17e"
      },
      "execution_count": 13,
      "outputs": [
        {
          "output_type": "stream",
          "name": "stderr",
          "text": [
            "100%|██████████| 100000/100000 [01:07<00:00, 1487.95it/s]"
          ]
        },
        {
          "output_type": "stream",
          "name": "stdout",
          "text": [
            "2.591710329055786\n"
          ]
        },
        {
          "output_type": "stream",
          "name": "stderr",
          "text": [
            "\n"
          ]
        }
      ]
    },
    {
      "cell_type": "code",
      "source": [
        "print(decode(m.generate(idx, max_new_tokens = 500)[0].tolist()))"
      ],
      "metadata": {
        "colab": {
          "base_uri": "https://localhost:8080/"
        },
        "id": "crd7Tgh1xjbw",
        "outputId": "db4de7be-2761-4fcd-b203-cf98248f24fa"
      },
      "execution_count": 14,
      "outputs": [
        {
          "output_type": "stream",
          "name": "stdout",
          "text": [
            "\n",
            "Frestt o rdin ent, iththar lincotheldwe erereshimungan? aghellie k'eshisundat, s midit soberay thenteviofou whasin, hy, sousha thoullowild, th mepoor; do p od ud mee t t by, ks ge my bl YO, s t mp thy,\n",
            "Whe; pshiede CHawind ker'\n",
            "ferrdstht che ie ay sesherind, pef h n tithedoffar\n",
            "\n",
            "IAnouror irinole; V: m ser isomeredethe.\n",
            "Wishyoumus,\n",
            "\n",
            "Bisover iplild g f tharsure.\n",
            "Notnd n'd kedom I'GBUCall;\n",
            "Thayo whainwag thayofoll, d ck hedy d athale IXE idrsehicen.\n",
            "PEOUMooy tildan wor ched beed aion sp wilmer?\n",
            "Fiv\n"
          ]
        }
      ]
    },
    {
      "cell_type": "markdown",
      "source": [
        "## Self attention workings."
      ],
      "metadata": {
        "id": "NXoU00dqCrc0"
      }
    },
    {
      "cell_type": "code",
      "source": [
        "B, T, C = 4, 8, 32 #batch, time, channels\n",
        "x = torch.randn(B, T, C)\n",
        "\n",
        "#A single head performing self-attention.\n",
        "head_size = 16\n",
        "key = nn.Linear(C, head_size, bias = False)\n",
        "query = nn.Linear(C, head_size, bias = False)\n",
        "value = nn.Linear(C, head_size, bias = False)\n",
        "\n",
        "k = key(x) #(B, T, 16)\n",
        "q = query(x) #(B, T, 16)\n",
        "weights = q @ k.transpose(-2, -1)\n",
        "\n",
        "tril = torch.tril(torch.ones(T, T))\n",
        "\n",
        "weights = weights.masked_fill(tril == 0, float('-inf'))\n",
        "weights = F.softmax(weights, dim = -1)\n",
        "\n",
        "v = value(x)\n",
        "out = weights @ v\n",
        "\n",
        "out.shape"
      ],
      "metadata": {
        "colab": {
          "base_uri": "https://localhost:8080/"
        },
        "id": "FHlecGi6CuB9",
        "outputId": "a6f6037e-7d15-485d-8dc1-8ccf0044d26e"
      },
      "execution_count": 30,
      "outputs": [
        {
          "output_type": "execute_result",
          "data": {
            "text/plain": [
              "torch.Size([4, 8, 16])"
            ]
          },
          "metadata": {},
          "execution_count": 30
        }
      ]
    },
    {
      "cell_type": "code",
      "source": [
        "weights[0]"
      ],
      "metadata": {
        "colab": {
          "base_uri": "https://localhost:8080/"
        },
        "id": "KuO-q_IbC5sc",
        "outputId": "66fe575c-bef7-46e9-8e84-0ac0958e2da1"
      },
      "execution_count": 29,
      "outputs": [
        {
          "output_type": "execute_result",
          "data": {
            "text/plain": [
              "tensor([[1.0000, 0.0000, 0.0000, 0.0000, 0.0000, 0.0000, 0.0000, 0.0000],\n",
              "        [0.0952, 0.9048, 0.0000, 0.0000, 0.0000, 0.0000, 0.0000, 0.0000],\n",
              "        [0.1744, 0.4157, 0.4099, 0.0000, 0.0000, 0.0000, 0.0000, 0.0000],\n",
              "        [0.1710, 0.2650, 0.5410, 0.0230, 0.0000, 0.0000, 0.0000, 0.0000],\n",
              "        [0.3900, 0.1341, 0.3017, 0.0868, 0.0875, 0.0000, 0.0000, 0.0000],\n",
              "        [0.0622, 0.1017, 0.0434, 0.0682, 0.2119, 0.5126, 0.0000, 0.0000],\n",
              "        [0.2383, 0.2225, 0.2349, 0.0397, 0.0653, 0.0676, 0.1318, 0.0000],\n",
              "        [0.2665, 0.0268, 0.0599, 0.0093, 0.1815, 0.0094, 0.1719, 0.2746]],\n",
              "       grad_fn=<SelectBackward0>)"
            ]
          },
          "metadata": {},
          "execution_count": 29
        }
      ]
    },
    {
      "cell_type": "code",
      "source": [
        "key, query"
      ],
      "metadata": {
        "colab": {
          "base_uri": "https://localhost:8080/"
        },
        "id": "1RCNgGPpEJls",
        "outputId": "31808c53-ce89-4659-e281-f7bea70685cc"
      },
      "execution_count": 21,
      "outputs": [
        {
          "output_type": "execute_result",
          "data": {
            "text/plain": [
              "(Linear(in_features=32, out_features=16, bias=False),\n",
              " Linear(in_features=32, out_features=16, bias=False))"
            ]
          },
          "metadata": {},
          "execution_count": 21
        }
      ]
    },
    {
      "cell_type": "code",
      "source": [],
      "metadata": {
        "id": "8OVa7h2FELLe"
      },
      "execution_count": null,
      "outputs": []
    }
  ]
}