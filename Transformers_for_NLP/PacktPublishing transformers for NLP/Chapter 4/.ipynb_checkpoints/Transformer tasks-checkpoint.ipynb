{
 "cells": [
  {
   "cell_type": "markdown",
   "id": "9a7f1a59-5951-4798-a7d0-9a234011bbfe",
   "metadata": {},
   "source": [
    "## Demonstration of various transformer tasks."
   ]
  },
  {
   "cell_type": "code",
   "execution_count": 4,
   "id": "17e2ee06-4be2-4924-8d72-f00c7cb5481c",
   "metadata": {},
   "outputs": [
    {
     "name": "stderr",
     "output_type": "stream",
     "text": [
      "No model was supplied, defaulted to distilbert-base-uncased-finetuned-sst-2-english and revision af0f99b (https://huggingface.co/distilbert-base-uncased-finetuned-sst-2-english).\n",
      "Using a pipeline without specifying a model name and revision in production is not recommended.\n"
     ]
    },
    {
     "name": "stdout",
     "output_type": "stream",
     "text": [
      "[{'label': 'POSITIVE', 'score': 0.9998257756233215}] If you sometimes like to go to the movies to have fun , Wasabi is a good place to start .\n",
      "[{'label': 'NEGATIVE', 'score': 0.9974064230918884}] Effective but too-tepid biopic.\n",
      "[{'label': 'NEGATIVE', 'score': 0.999803364276886}] \n",
      " Playing with people's minds is a bad idea.\n"
     ]
    }
   ],
   "source": [
    "#1. Binary classification.\n",
    "from transformers import pipeline\n",
    "\n",
    "nlp = pipeline('sentiment-analysis')\n",
    "\n",
    "print(nlp(\"If you sometimes like to go to the movies to have fun , Wasabi is a good place to start .\"),\"If you sometimes like to go to the movies to have fun , Wasabi is a good place to start .\")\n",
    "print(nlp(\"\\n Effective but too-tepid biopic.\"),\"Effective but too-tepid biopic.\")\n",
    "print(nlp('\\n Playing with people\\'s minds is a bad idea.'), '\\n Playing with people\\'s minds is a bad idea.')"
   ]
  },
  {
   "cell_type": "code",
   "execution_count": 3,
   "id": "129c0074-8ae6-4c97-b2b6-b3aff4ca4215",
   "metadata": {},
   "outputs": [
    {
     "name": "stderr",
     "output_type": "stream",
     "text": [
      "Some layers from the model checkpoint at bert-base-cased-finetuned-mrpc were not used when initializing TFBertForSequenceClassification: ['dropout_183']\n",
      "- This IS expected if you are initializing TFBertForSequenceClassification from the checkpoint of a model trained on another task or with another architecture (e.g. initializing a BertForSequenceClassification model from a BertForPreTraining model).\n",
      "- This IS NOT expected if you are initializing TFBertForSequenceClassification from the checkpoint of a model that you expect to be exactly identical (initializing a BertForSequenceClassification model from a BertForSequenceClassification model).\n",
      "All the layers of TFBertForSequenceClassification were initialized from the model checkpoint at bert-base-cased-finetuned-mrpc.\n",
      "If your task is similar to the task the model of the checkpoint was trained on, you can already use TFBertForSequenceClassification for predictions without further training.\n"
     ]
    },
    {
     "name": "stdout",
     "output_type": "stream",
     "text": [
      "The DVD CCA appealed that decision to the U.S. Supreme Court. \n",
      " should be a paraphrase. \n",
      "\n",
      "not paraphrase: 8%\n",
      "is paraphrase: 92%\n"
     ]
    }
   ],
   "source": [
    "#2. Sequence classification.\n",
    "\n",
    "import tensorflow as tf\n",
    "from transformers import AutoTokenizer, TFAutoModelForSequenceClassification\n",
    "\n",
    "tokenizer = AutoTokenizer.from_pretrained('bert-base-cased-finetuned-mrpc')\n",
    "model = TFAutoModelForSequenceClassification.from_pretrained(\"bert-base-cased-finetuned-mrpc\")\n",
    "\n",
    "classes = ['not paraphrase', 'is paraphrase']\n",
    "\n",
    "sequence_A = \"The DVD-CCA then appealed to the state Supreme Court.\"\n",
    "sequence_B = \"The DVD CCA appealed that decision to the U.S. Supreme Court.\"\n",
    "\n",
    "paraphrase = tokenizer.encode_plus(sequence_A, sequence_B, return_tensors = 'tf')\n",
    "paraphrase_classification_logits = model(paraphrase)[0]\n",
    "\n",
    "paraphrase_results = tf.nn.softmax(paraphrase_classification_logits, axis = 1).numpy()[0]\n",
    "\n",
    "print(sequence_B, '\\n should be a paraphrase. \\n')\n",
    "\n",
    "for index, item in enumerate(classes):\n",
    "    print(f'{item}: {round(paraphrase_results[index] * 100)}%')"
   ]
  },
  {
   "cell_type": "code",
   "execution_count": 5,
   "id": "d457cb55-02d2-4739-bc30-41923a9cb5c0",
   "metadata": {},
   "outputs": [
    {
     "name": "stderr",
     "output_type": "stream",
     "text": [
      "No model was supplied, defaulted to dbmdz/bert-large-cased-finetuned-conll03-english and revision f2482bf (https://huggingface.co/dbmdz/bert-large-cased-finetuned-conll03-english).\n",
      "Using a pipeline without specifying a model name and revision in production is not recommended.\n"
     ]
    },
    {
     "data": {
      "application/vnd.jupyter.widget-view+json": {
       "model_id": "deba6a1a77f44bcaba1ea0b60bef1bc8",
       "version_major": 2,
       "version_minor": 0
      },
      "text/plain": [
       "Downloading (…)lve/main/config.json:   0%|          | 0.00/998 [00:00<?, ?B/s]"
      ]
     },
     "metadata": {},
     "output_type": "display_data"
    },
    {
     "data": {
      "application/vnd.jupyter.widget-view+json": {
       "model_id": "cc84a14a72424fd1ad3ede58da337962",
       "version_major": 2,
       "version_minor": 0
      },
      "text/plain": [
       "Downloading (…)\"pytorch_model.bin\";:   0%|          | 0.00/1.33G [00:00<?, ?B/s]"
      ]
     },
     "metadata": {},
     "output_type": "display_data"
    },
    {
     "data": {
      "application/vnd.jupyter.widget-view+json": {
       "model_id": "153312dcc3de48e1abefc399ab0998a4",
       "version_major": 2,
       "version_minor": 0
      },
      "text/plain": [
       "Downloading (…)okenizer_config.json:   0%|          | 0.00/60.0 [00:00<?, ?B/s]"
      ]
     },
     "metadata": {},
     "output_type": "display_data"
    },
    {
     "data": {
      "application/vnd.jupyter.widget-view+json": {
       "model_id": "ef57d4428a514be6bae7e0a7551e991e",
       "version_major": 2,
       "version_minor": 0
      },
      "text/plain": [
       "Downloading (…)solve/main/vocab.txt:   0%|          | 0.00/213k [00:00<?, ?B/s]"
      ]
     },
     "metadata": {},
     "output_type": "display_data"
    },
    {
     "name": "stdout",
     "output_type": "stream",
     "text": [
      "[{'entity': 'I-ORG', 'score': 0.9995635, 'index': 1, 'word': 'Hu', 'start': 0, 'end': 2}, {'entity': 'I-ORG', 'score': 0.99159384, 'index': 2, 'word': '##gging', 'start': 2, 'end': 7}, {'entity': 'I-ORG', 'score': 0.99826705, 'index': 3, 'word': 'Face', 'start': 8, 'end': 12}, {'entity': 'I-ORG', 'score': 0.9994404, 'index': 4, 'word': 'Inc', 'start': 13, 'end': 16}, {'entity': 'I-LOC', 'score': 0.99943465, 'index': 11, 'word': 'New', 'start': 40, 'end': 43}, {'entity': 'I-LOC', 'score': 0.99932706, 'index': 12, 'word': 'York', 'start': 44, 'end': 48}, {'entity': 'I-LOC', 'score': 0.9993864, 'index': 13, 'word': 'City', 'start': 49, 'end': 53}, {'entity': 'I-LOC', 'score': 0.9825622, 'index': 19, 'word': 'D', 'start': 79, 'end': 80}, {'entity': 'I-LOC', 'score': 0.936983, 'index': 20, 'word': '##UM', 'start': 80, 'end': 82}, {'entity': 'I-LOC', 'score': 0.89871013, 'index': 21, 'word': '##BO', 'start': 82, 'end': 84}, {'entity': 'I-LOC', 'score': 0.97582406, 'index': 29, 'word': 'Manhattan', 'start': 113, 'end': 122}, {'entity': 'I-LOC', 'score': 0.99024945, 'index': 30, 'word': 'Bridge', 'start': 123, 'end': 129}]\n"
     ]
    }
   ],
   "source": [
    "##. Named-entity recognition.\n",
    "from transformers import pipeline\n",
    "nlp = pipeline('ner')\n",
    "\n",
    "sequence = \"Hugging Face Inc. is a company based in New York City. Its headquarters are in DUMBO, therefore very\" \\\n",
    "           \"close to the Manhattan Bridge which is visible from the window.\"\n",
    "\n",
    "print(nlp(sequence))"
   ]
  },
  {
   "cell_type": "code",
   "execution_count": 6,
   "id": "44510434-979d-49d9-b9cf-cac23c80a84a",
   "metadata": {},
   "outputs": [
    {
     "name": "stderr",
     "output_type": "stream",
     "text": [
      "No model was supplied, defaulted to t5-base and revision 686f1db (https://huggingface.co/t5-base).\n",
      "Using a pipeline without specifying a model name and revision in production is not recommended.\n"
     ]
    },
    {
     "data": {
      "application/vnd.jupyter.widget-view+json": {
       "model_id": "fac80c8f503a4b8f9ce701aaa7d3ef69",
       "version_major": 2,
       "version_minor": 0
      },
      "text/plain": [
       "Downloading (…)lve/main/config.json:   0%|          | 0.00/1.21k [00:00<?, ?B/s]"
      ]
     },
     "metadata": {},
     "output_type": "display_data"
    },
    {
     "data": {
      "application/vnd.jupyter.widget-view+json": {
       "model_id": "6cf08cd3f2804694b0388b84c688aab7",
       "version_major": 2,
       "version_minor": 0
      },
      "text/plain": [
       "Downloading (…)\"pytorch_model.bin\";:   0%|          | 0.00/892M [00:00<?, ?B/s]"
      ]
     },
     "metadata": {},
     "output_type": "display_data"
    },
    {
     "data": {
      "application/vnd.jupyter.widget-view+json": {
       "model_id": "4df3e46389a34e1b82c99d0b441c9794",
       "version_major": 2,
       "version_minor": 0
      },
      "text/plain": [
       "Downloading (…)neration_config.json:   0%|          | 0.00/147 [00:00<?, ?B/s]"
      ]
     },
     "metadata": {},
     "output_type": "display_data"
    },
    {
     "data": {
      "application/vnd.jupyter.widget-view+json": {
       "model_id": "d1d10051264f4c70bd1fe92e9fef3a5f",
       "version_major": 2,
       "version_minor": 0
      },
      "text/plain": [
       "Downloading (…)ve/main/spiece.model:   0%|          | 0.00/792k [00:00<?, ?B/s]"
      ]
     },
     "metadata": {},
     "output_type": "display_data"
    },
    {
     "data": {
      "application/vnd.jupyter.widget-view+json": {
       "model_id": "68712ce5df094f74baaf0ec48d4c4214",
       "version_major": 2,
       "version_minor": 0
      },
      "text/plain": [
       "Downloading (…)/main/tokenizer.json:   0%|          | 0.00/1.39M [00:00<?, ?B/s]"
      ]
     },
     "metadata": {},
     "output_type": "display_data"
    },
    {
     "name": "stderr",
     "output_type": "stream",
     "text": [
      "/home/studio-lab-user/.conda/envs/default/lib/python3.9/site-packages/transformers/models/t5/tokenization_t5_fast.py:155: FutureWarning: This tokenizer was incorrectly instantiated with a model max length of 512 which will be corrected in Transformers v5.\n",
      "For now, this behavior is kept to avoid breaking backwards compatibility when padding/encoding with `truncation is True`.\n",
      "- Be aware that you SHOULD NOT rely on t5-base automatically truncating your input to 512 when padding/encoding.\n",
      "- If you want to encode/pad to sequences longer than 512 you can either instantiate this tokenizer with `model_max_length` or pass `max_length` when encoding/padding.\n",
      "- To avoid this warning, please instantiate this tokenizer with `model_max_length` set to your preferred value.\n",
      "  warnings.warn(\n"
     ]
    }
   ],
   "source": [
    "#@title Winograd\n",
    "from transformers import pipeline\n",
    "translator = pipeline(\"translation_en_to_fr\")"
   ]
  },
  {
   "cell_type": "code",
   "execution_count": 7,
   "id": "28040b30-cfae-43b0-b37d-d1ff401b67c0",
   "metadata": {},
   "outputs": [
    {
     "name": "stderr",
     "output_type": "stream",
     "text": [
      "/home/studio-lab-user/.conda/envs/default/lib/python3.9/site-packages/transformers/generation/utils.py:1186: UserWarning: You have modified the pretrained model configuration to control generation. This is a deprecated strategy to control generation and will be removed soon, in a future version. Please use a generation configuration file (see https://huggingface.co/docs/transformers/main_classes/text_generation)\n",
      "  warnings.warn(\n"
     ]
    },
    {
     "name": "stdout",
     "output_type": "stream",
     "text": [
      "[{'translation_text': \"La voiture ne pouvait pas aller dans le garage parce qu'elle était trop grosse.\"}]\n"
     ]
    }
   ],
   "source": [
    "print(translator(\"The car could not go in the garage because it was too big.\", max_length=40))"
   ]
  },
  {
   "cell_type": "code",
   "execution_count": null,
   "id": "9eceff84-142b-48ad-9f4f-7abfafeb16fc",
   "metadata": {},
   "outputs": [],
   "source": []
  }
 ],
 "metadata": {
  "kernelspec": {
   "display_name": "default:Python",
   "language": "python",
   "name": "conda-env-default-py"
  },
  "language_info": {
   "codemirror_mode": {
    "name": "ipython",
    "version": 3
   },
   "file_extension": ".py",
   "mimetype": "text/x-python",
   "name": "python",
   "nbconvert_exporter": "python",
   "pygments_lexer": "ipython3",
   "version": "3.9.13"
  }
 },
 "nbformat": 4,
 "nbformat_minor": 5
}
